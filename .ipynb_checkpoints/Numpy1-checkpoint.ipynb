{
 "cells": [
  {
   "cell_type": "markdown",
   "metadata": {},
   "source": [
    "# General array stuffs with numpy"
   ]
  },
  {
   "cell_type": "code",
   "execution_count": 2,
   "metadata": {},
   "outputs": [
    {
     "name": "stdout",
     "output_type": "stream",
     "text": [
      "[ 1  1  2  3  5  8 13 21 34 55]\n"
     ]
    }
   ],
   "source": [
    "#import numpy\n",
    "import numpy as np\n",
    "\n",
    "# defining numpy array\n",
    "myArr1 = np.array([1,1,2,3,5,8,13,21,34,55]);\n",
    "print(myArr1)"
   ]
  },
  {
   "cell_type": "code",
   "execution_count": 3,
   "metadata": {},
   "outputs": [
    {
     "name": "stdout",
     "output_type": "stream",
     "text": [
      "[[ 1  2  3  4]\n",
      " [ 5  6  7  8]\n",
      " [ 9 10 11 12]]\n"
     ]
    }
   ],
   "source": [
    "# defining a 2D array\n",
    "myArr2 = np.array([[1,2,3,4],[5,6,7,8],[9,10,11,12]])\n",
    "print(myArr2)"
   ]
  },
  {
   "cell_type": "code",
   "execution_count": 4,
   "metadata": {},
   "outputs": [
    {
     "name": "stdout",
     "output_type": "stream",
     "text": [
      "[[[ 1  2  3  4]\n",
      "  [ 5  6  7  8]]\n",
      "\n",
      " [[ 9 10 11 12]\n",
      "  [13 14 15 16]]]\n"
     ]
    }
   ],
   "source": [
    "# defining a 3D array\n",
    "myArr3 = np.array([[[1,2,3,4],[5,6,7,8]],[[9,10,11,12],[13,14,15,16]]])\n",
    "print(myArr3)                   "
   ]
  },
  {
   "cell_type": "code",
   "execution_count": 5,
   "metadata": {},
   "outputs": [
    {
     "name": "stdout",
     "output_type": "stream",
     "text": [
      "<memory at 0x7fd31d2a8ad0>\n"
     ]
    }
   ],
   "source": [
    "# Print memory address\n",
    "print(myArr2.data)"
   ]
  },
  {
   "cell_type": "code",
   "execution_count": 6,
   "metadata": {},
   "outputs": [
    {
     "name": "stdout",
     "output_type": "stream",
     "text": [
      "(2, 2, 4)\n"
     ]
    }
   ],
   "source": [
    "# Print shape of array\n",
    "print(myArr3.shape)"
   ]
  },
  {
   "cell_type": "code",
   "execution_count": 7,
   "metadata": {},
   "outputs": [
    {
     "name": "stdout",
     "output_type": "stream",
     "text": [
      "int64\n"
     ]
    }
   ],
   "source": [
    "#  Print data type of the array \n",
    "print(myArr2.dtype)"
   ]
  },
  {
   "cell_type": "code",
   "execution_count": 8,
   "metadata": {},
   "outputs": [
    {
     "name": "stdout",
     "output_type": "stream",
     "text": [
      "(32, 8)\n"
     ]
    }
   ],
   "source": [
    "# Print the stride of the array\n",
    "print(myArr2.strides)"
   ]
  },
  {
   "cell_type": "markdown",
   "metadata": {},
   "source": [
    "# Creating arrays with numpy"
   ]
  },
  {
   "cell_type": "code",
   "execution_count": 9,
   "metadata": {},
   "outputs": [
    {
     "name": "stdout",
     "output_type": "stream",
     "text": [
      "[[1. 1. 1. 1.]\n",
      " [1. 1. 1. 1.]\n",
      " [1. 1. 1. 1.]]\n",
      "float64\n"
     ]
    }
   ],
   "source": [
    "# Creating array of ones\n",
    "ones = np.ones((3,4))\n",
    "print(ones)\n",
    "print(ones.dtype)"
   ]
  },
  {
   "cell_type": "code",
   "execution_count": 10,
   "metadata": {},
   "outputs": [
    {
     "name": "stdout",
     "output_type": "stream",
     "text": [
      "[[[0 0 0 0]\n",
      "  [0 0 0 0]\n",
      "  [0 0 0 0]]\n",
      "\n",
      " [[0 0 0 0]\n",
      "  [0 0 0 0]\n",
      "  [0 0 0 0]]]\n",
      "int16\n"
     ]
    }
   ],
   "source": [
    "# Creating array of zeros\n",
    "zeros = np.zeros((2,3,4),dtype=np.int16)\n",
    "print(zeros)\n",
    "print(zeros.dtype)"
   ]
  },
  {
   "cell_type": "code",
   "execution_count": 11,
   "metadata": {},
   "outputs": [
    {
     "name": "stdout",
     "output_type": "stream",
     "text": [
      "[[ 4.65056116  8.75139874]\n",
      " [16.50538054 43.19515506]]\n",
      "float64\n"
     ]
    }
   ],
   "source": [
    "# Array with random values\n",
    "rand = np.random.random((2,2))*100\n",
    "print(rand)\n",
    "print(rand.dtype)"
   ]
  },
  {
   "cell_type": "code",
   "execution_count": 12,
   "metadata": {},
   "outputs": [
    {
     "name": "stdout",
     "output_type": "stream",
     "text": [
      "[[0. 0. 0.]\n",
      " [0. 0. 0.]]\n",
      "float64\n"
     ]
    }
   ],
   "source": [
    "# Creating an empty array\n",
    "emptyArray = np.empty((2,3))\n",
    "print(emptyArray)\n",
    "print(emptyArray.dtype)"
   ]
  },
  {
   "cell_type": "code",
   "execution_count": 13,
   "metadata": {},
   "outputs": [
    {
     "name": "stdout",
     "output_type": "stream",
     "text": [
      "[[7 7]\n",
      " [7 7]]\n",
      "int64\n"
     ]
    }
   ],
   "source": [
    "# Creating a full array \n",
    "fullArr = np.full((2,2),7)\n",
    "print(fullArr)\n",
    "print(fullArr.dtype)"
   ]
  },
  {
   "cell_type": "code",
   "execution_count": 14,
   "metadata": {},
   "outputs": [
    {
     "name": "stdout",
     "output_type": "stream",
     "text": [
      "[10 15 20]\n",
      "int64\n"
     ]
    }
   ],
   "source": [
    "# Creating an array with even-spaced values\n",
    "evenSpacedArr = np.arange(10,25,5)\n",
    "print(evenSpacedArr)\n",
    "print(evenSpacedArr.dtype)"
   ]
  },
  {
   "cell_type": "code",
   "execution_count": 15,
   "metadata": {},
   "outputs": [
    {
     "name": "stdout",
     "output_type": "stream",
     "text": [
      "[0.   0.25 0.5  0.75 1.   1.25 1.5  1.75 2.  ]\n",
      "float64\n"
     ]
    }
   ],
   "source": [
    "# Creating an array with even-spaced values\n",
    "evenSpacedArr2 = np.linspace(0,2,9)\n",
    "print(evenSpacedArr2)\n",
    "print(evenSpacedArr2.dtype)"
   ]
  },
  {
   "cell_type": "markdown",
   "metadata": {},
   "source": [
    "# Numpy array file operations"
   ]
  },
  {
   "cell_type": "code",
   "execution_count": 16,
   "metadata": {},
   "outputs": [],
   "source": [
    "# Save numpy array to file\n",
    "arrOut = np.arange(0.0,50.0,1.0)\n",
    "np.savetxt('data.out', arrOut, delimiter=\",\")"
   ]
  },
  {
   "cell_type": "code",
   "execution_count": 17,
   "metadata": {},
   "outputs": [
    {
     "name": "stdout",
     "output_type": "stream",
     "text": [
      "[ 0.  1.  2.  3.  4.  5.  6.  7.  8.  9. 10. 11. 12. 13. 14. 15. 16. 17.\n",
      " 18. 19. 20. 21. 22. 23. 24. 25. 26. 27. 28. 29. 30. 31. 32. 33. 34. 35.\n",
      " 36. 37. 38. 39. 40. 41. 42. 43. 44. 45. 46. 47. 48. 49.]\n"
     ]
    }
   ],
   "source": [
    "# Loading numpy array from file\n",
    "arrIn = np.loadtxt('data.out', unpack=True)\n",
    "print(arrIn)"
   ]
  },
  {
   "cell_type": "code",
   "execution_count": 18,
   "metadata": {},
   "outputs": [
    {
     "name": "stdout",
     "output_type": "stream",
     "text": [
      "[ 1.  2.  3.  4.  5.  6.  7.  8.  9. 10. 11. 12. 13. 14. 15. 16. 17. 18.\n",
      " 19. 20. 21. 22. 23. 24. 25. 26. 27. 28. 29. 30. 31. 32. 33. 34. 35. 36.\n",
      " 37. 38. 39. 40. 41. 42. 43. 44. 45. 46. 47. 48. 49.]\n"
     ]
    }
   ],
   "source": [
    "# Loading numpy array using genfromtxt method\n",
    "my_arr2 = np.genfromtxt('data.out',\n",
    "                      skip_header=1,\n",
    "                      filling_values=-999)\n",
    "print(my_arr2)"
   ]
  },
  {
   "cell_type": "markdown",
   "metadata": {},
   "source": [
    "# Inspecting numpy arrays"
   ]
  },
  {
   "cell_type": "code",
   "execution_count": 19,
   "metadata": {},
   "outputs": [
    {
     "name": "stdout",
     "output_type": "stream",
     "text": [
      "2\n"
     ]
    }
   ],
   "source": [
    "# Printing myArr2 dimensions\n",
    "print(myArr2.ndim)"
   ]
  },
  {
   "cell_type": "code",
   "execution_count": 20,
   "metadata": {},
   "outputs": [
    {
     "name": "stdout",
     "output_type": "stream",
     "text": [
      "12\n"
     ]
    }
   ],
   "source": [
    "# Printing the number myArr2 elements\n",
    "print(myArr2.size)"
   ]
  },
  {
   "cell_type": "code",
   "execution_count": 21,
   "metadata": {},
   "outputs": [
    {
     "name": "stdout",
     "output_type": "stream",
     "text": [
      "  C_CONTIGUOUS : True\n",
      "  F_CONTIGUOUS : False\n",
      "  OWNDATA : True\n",
      "  WRITEABLE : True\n",
      "  ALIGNED : True\n",
      "  WRITEBACKIFCOPY : False\n",
      "  UPDATEIFCOPY : False\n",
      "\n"
     ]
    }
   ],
   "source": [
    "# Print information about myArr2 memory layout\n",
    "print(myArr2.flags)"
   ]
  },
  {
   "cell_type": "code",
   "execution_count": 22,
   "metadata": {},
   "outputs": [
    {
     "name": "stdout",
     "output_type": "stream",
     "text": [
      "8\n"
     ]
    }
   ],
   "source": [
    "# Rpint length of one array element in bytes\n",
    "print(myArr2.itemsize)"
   ]
  },
  {
   "cell_type": "code",
   "execution_count": 23,
   "metadata": {},
   "outputs": [
    {
     "name": "stdout",
     "output_type": "stream",
     "text": [
      "96\n"
     ]
    }
   ],
   "source": [
    "# Print the total consumed bytes by myArr2's elements\n",
    "print(myArr2.nbytes) # 12 * 8"
   ]
  },
  {
   "cell_type": "markdown",
   "metadata": {},
   "source": [
    "# Broadcasting"
   ]
  },
  {
   "cell_type": "code",
   "execution_count": 32,
   "metadata": {},
   "outputs": [
    {
     "name": "stdout",
     "output_type": "stream",
     "text": [
      "(6, 8)\n",
      "[[1. 1. 1. 1. 1. 1. 1. 1.]\n",
      " [1. 1. 1. 1. 1. 1. 1. 1.]\n",
      " [1. 1. 1. 1. 1. 1. 1. 1.]\n",
      " [1. 1. 1. 1. 1. 1. 1. 1.]\n",
      " [1. 1. 1. 1. 1. 1. 1. 1.]\n",
      " [1. 1. 1. 1. 1. 1. 1. 1.]]\n",
      "--------------------------------------------------------------------------------\n",
      "(6, 8)\n",
      "[[0.03765632 0.36178969 0.31234134 0.24177163 0.18762428 0.40614922\n",
      "  0.39317778 0.04770888]\n",
      " [0.28533683 0.43369811 0.38720835 0.20683507 0.19550262 0.95461376\n",
      "  0.51340978 0.79039769]\n",
      " [0.76205761 0.23370214 0.97237352 0.00925348 0.31935442 0.88692034\n",
      "  0.43647577 0.22543756]\n",
      " [0.87149673 0.25878562 0.6194198  0.21024339 0.26055798 0.45787029\n",
      "  0.2558337  0.73378665]\n",
      " [0.93721642 0.15820395 0.69252209 0.40953924 0.14726112 0.73302867\n",
      "  0.53929162 0.76123567]\n",
      " [0.42714881 0.62492293 0.46150806 0.47979129 0.86831256 0.48905152\n",
      "  0.41519075 0.07523129]]\n",
      "--------------------------------------------------------------------------------\n",
      "(6, 8)\n",
      "[[1.03765632 1.36178969 1.31234134 1.24177163 1.18762428 1.40614922\n",
      "  1.39317778 1.04770888]\n",
      " [1.28533683 1.43369811 1.38720835 1.20683507 1.19550262 1.95461376\n",
      "  1.51340978 1.79039769]\n",
      " [1.76205761 1.23370214 1.97237352 1.00925348 1.31935442 1.88692034\n",
      "  1.43647577 1.22543756]\n",
      " [1.87149673 1.25878562 1.6194198  1.21024339 1.26055798 1.45787029\n",
      "  1.2558337  1.73378665]\n",
      " [1.93721642 1.15820395 1.69252209 1.40953924 1.14726112 1.73302867\n",
      "  1.53929162 1.76123567]\n",
      " [1.42714881 1.62492293 1.46150806 1.47979129 1.86831256 1.48905152\n",
      "  1.41519075 1.07523129]]\n"
     ]
    }
   ],
   "source": [
    "# Rule 1: Two dimensions are operatable if they are equal\n",
    "\n",
    "# Create an array of two dimension\n",
    "arr1 = np.ones((6, 8))\n",
    "\n",
    "# Shape of arr1\n",
    "print(arr1.shape)\n",
    "print(arr1)\n",
    "print('-'*80)\n",
    "\n",
    "# Create another array\n",
    "arr2 = np.random.random((6,8))\n",
    "\n",
    "# Shape of arr2\n",
    "print(arr2.shape)\n",
    "print(arr2)\n",
    "print('-'*80)\n",
    "\n",
    "# Sum of A and B, here the shape of both the matrix is same.\n",
    "arr12 = arr1 + arr2\n",
    "\n",
    "print(arr12.shape)\n",
    "print(arr12)"
   ]
  },
  {
   "cell_type": "code",
   "execution_count": 38,
   "metadata": {},
   "outputs": [
    {
     "name": "stdout",
     "output_type": "stream",
     "text": [
      "[[1. 1. 1. 1.]\n",
      " [1. 1. 1. 1.]\n",
      " [1. 1. 1. 1.]]\n",
      "(3, 4)\n",
      "# ------------------------------------------------------------ #\n",
      "[0 1 2 3]\n",
      "(4,)\n",
      "# ------------------------------------------------------------ #\n",
      "[[ 1.  0. -1. -2.]\n",
      " [ 1.  0. -1. -2.]\n",
      " [ 1.  0. -1. -2.]]\n"
     ]
    }
   ],
   "source": [
    "# Rule 2: Two dimensions are also compatible when one of them is 1\n",
    "\n",
    "# Initialize x\n",
    "x = np.ones((3,4))\n",
    "print(x)\n",
    "print(x.shape)\n",
    "print(\"# \" + \"-\"*60 + \" #\")\n",
    "\n",
    "# Initialize y\n",
    "y = np.arange(4)\n",
    "print(y)\n",
    "print(y.shape)\n",
    "print(\"# \" + \"-\"*60 + \" #\")\n",
    "\n",
    "# Subtract x and y\n",
    "print(x - y)"
   ]
  },
  {
   "cell_type": "code",
   "execution_count": 47,
   "metadata": {},
   "outputs": [
    {
     "name": "stdout",
     "output_type": "stream",
     "text": [
      "[[1. 1. 1. 1. 1. 1. 1. 1.]\n",
      " [1. 1. 1. 1. 1. 1. 1. 1.]\n",
      " [1. 1. 1. 1. 1. 1. 1. 1.]\n",
      " [1. 1. 1. 1. 1. 1. 1. 1.]\n",
      " [1. 1. 1. 1. 1. 1. 1. 1.]\n",
      " [1. 1. 1. 1. 1. 1. 1. 1.]]\n",
      "(6, 8)\n",
      "# ------------------------------------------------------------ #\n",
      "[[[4 9 4 8 7 9 6 4]]\n",
      "\n",
      " [[1 4 4 3 1 3 5 2]]\n",
      "\n",
      " [[3 2 1 6 6 4 8 2]]\n",
      "\n",
      " [[9 1 6 6 9 7 1 7]]\n",
      "\n",
      " [[7 8 8 8 1 7 7 2]]\n",
      "\n",
      " [[5 5 2 8 2 6 9 8]]\n",
      "\n",
      " [[6 7 6 2 8 5 7 7]]\n",
      "\n",
      " [[2 7 2 5 8 3 4 8]]\n",
      "\n",
      " [[6 3 6 1 1 1 7 8]]\n",
      "\n",
      " [[1 2 5 2 2 1 4 2]]]\n",
      "(10, 1, 8)\n",
      "# ------------------------------------------------------------ #\n",
      "[[[ 5. 10.  5.  9.  8. 10.  7.  5.]\n",
      "  [ 5. 10.  5.  9.  8. 10.  7.  5.]\n",
      "  [ 5. 10.  5.  9.  8. 10.  7.  5.]\n",
      "  [ 5. 10.  5.  9.  8. 10.  7.  5.]\n",
      "  [ 5. 10.  5.  9.  8. 10.  7.  5.]\n",
      "  [ 5. 10.  5.  9.  8. 10.  7.  5.]]\n",
      "\n",
      " [[ 2.  5.  5.  4.  2.  4.  6.  3.]\n",
      "  [ 2.  5.  5.  4.  2.  4.  6.  3.]\n",
      "  [ 2.  5.  5.  4.  2.  4.  6.  3.]\n",
      "  [ 2.  5.  5.  4.  2.  4.  6.  3.]\n",
      "  [ 2.  5.  5.  4.  2.  4.  6.  3.]\n",
      "  [ 2.  5.  5.  4.  2.  4.  6.  3.]]\n",
      "\n",
      " [[ 4.  3.  2.  7.  7.  5.  9.  3.]\n",
      "  [ 4.  3.  2.  7.  7.  5.  9.  3.]\n",
      "  [ 4.  3.  2.  7.  7.  5.  9.  3.]\n",
      "  [ 4.  3.  2.  7.  7.  5.  9.  3.]\n",
      "  [ 4.  3.  2.  7.  7.  5.  9.  3.]\n",
      "  [ 4.  3.  2.  7.  7.  5.  9.  3.]]\n",
      "\n",
      " [[10.  2.  7.  7. 10.  8.  2.  8.]\n",
      "  [10.  2.  7.  7. 10.  8.  2.  8.]\n",
      "  [10.  2.  7.  7. 10.  8.  2.  8.]\n",
      "  [10.  2.  7.  7. 10.  8.  2.  8.]\n",
      "  [10.  2.  7.  7. 10.  8.  2.  8.]\n",
      "  [10.  2.  7.  7. 10.  8.  2.  8.]]\n",
      "\n",
      " [[ 8.  9.  9.  9.  2.  8.  8.  3.]\n",
      "  [ 8.  9.  9.  9.  2.  8.  8.  3.]\n",
      "  [ 8.  9.  9.  9.  2.  8.  8.  3.]\n",
      "  [ 8.  9.  9.  9.  2.  8.  8.  3.]\n",
      "  [ 8.  9.  9.  9.  2.  8.  8.  3.]\n",
      "  [ 8.  9.  9.  9.  2.  8.  8.  3.]]\n",
      "\n",
      " [[ 6.  6.  3.  9.  3.  7. 10.  9.]\n",
      "  [ 6.  6.  3.  9.  3.  7. 10.  9.]\n",
      "  [ 6.  6.  3.  9.  3.  7. 10.  9.]\n",
      "  [ 6.  6.  3.  9.  3.  7. 10.  9.]\n",
      "  [ 6.  6.  3.  9.  3.  7. 10.  9.]\n",
      "  [ 6.  6.  3.  9.  3.  7. 10.  9.]]\n",
      "\n",
      " [[ 7.  8.  7.  3.  9.  6.  8.  8.]\n",
      "  [ 7.  8.  7.  3.  9.  6.  8.  8.]\n",
      "  [ 7.  8.  7.  3.  9.  6.  8.  8.]\n",
      "  [ 7.  8.  7.  3.  9.  6.  8.  8.]\n",
      "  [ 7.  8.  7.  3.  9.  6.  8.  8.]\n",
      "  [ 7.  8.  7.  3.  9.  6.  8.  8.]]\n",
      "\n",
      " [[ 3.  8.  3.  6.  9.  4.  5.  9.]\n",
      "  [ 3.  8.  3.  6.  9.  4.  5.  9.]\n",
      "  [ 3.  8.  3.  6.  9.  4.  5.  9.]\n",
      "  [ 3.  8.  3.  6.  9.  4.  5.  9.]\n",
      "  [ 3.  8.  3.  6.  9.  4.  5.  9.]\n",
      "  [ 3.  8.  3.  6.  9.  4.  5.  9.]]\n",
      "\n",
      " [[ 7.  4.  7.  2.  2.  2.  8.  9.]\n",
      "  [ 7.  4.  7.  2.  2.  2.  8.  9.]\n",
      "  [ 7.  4.  7.  2.  2.  2.  8.  9.]\n",
      "  [ 7.  4.  7.  2.  2.  2.  8.  9.]\n",
      "  [ 7.  4.  7.  2.  2.  2.  8.  9.]\n",
      "  [ 7.  4.  7.  2.  2.  2.  8.  9.]]\n",
      "\n",
      " [[ 2.  3.  6.  3.  3.  2.  5.  3.]\n",
      "  [ 2.  3.  6.  3.  3.  2.  5.  3.]\n",
      "  [ 2.  3.  6.  3.  3.  2.  5.  3.]\n",
      "  [ 2.  3.  6.  3.  3.  2.  5.  3.]\n",
      "  [ 2.  3.  6.  3.  3.  2.  5.  3.]\n",
      "  [ 2.  3.  6.  3.  3.  2.  5.  3.]]]\n"
     ]
    }
   ],
   "source": [
    "# Rule 3: Arrays can be broadcast together if they are compatible in all dimensions\n",
    "x = np.ones((6,8))\n",
    "print(x)\n",
    "print(x.shape)\n",
    "print(\"# \" + \"-\"*60 + \" #\")\n",
    "\n",
    "y = np.random.randint(1, 10, (10,1,8))\n",
    "print(y)\n",
    "print(y.shape)\n",
    "print(\"# \" + \"-\"*60 + \" #\")\n",
    "\n",
    "print(x + y)"
   ]
  },
  {
   "cell_type": "markdown",
   "metadata": {},
   "source": [
    "# Basic numpy array mathematics"
   ]
  },
  {
   "cell_type": "code",
   "execution_count": 50,
   "metadata": {},
   "outputs": [
    {
     "name": "stdout",
     "output_type": "stream",
     "text": [
      "[[1 2 3]\n",
      " [2 3 4]]\n",
      "[[ 1  4  9]\n",
      " [ 2  3 -2]]\n",
      "# ------------------------------------------------------------ #\n",
      "[[ 2  6 12]\n",
      " [ 4  6  2]]\n",
      "# ------------------------------------------------------------ #\n",
      "[[ 0 -2 -6]\n",
      " [ 0  0  6]]\n",
      "# ------------------------------------------------------------ #\n",
      "[[ 1  8 27]\n",
      " [ 4  9 -8]]\n",
      "# ------------------------------------------------------------ #\n",
      "[[ 1.          0.5         0.33333333]\n",
      " [ 1.          1.         -2.        ]]\n",
      "# ------------------------------------------------------------ #\n",
      "[[0 2 3]\n",
      " [0 0 0]]\n"
     ]
    }
   ],
   "source": [
    "# Basic operations (+, -, *, /, %)\n",
    "x = np.array([[1, 2, 3], [2, 3, 4]])\n",
    "y = np.array([[1, 4, 9], [2, 3, -2]])\n",
    "\n",
    "print(x)\n",
    "print(y)\n",
    "print(\"# \" + \"-\"*60 + \" #\")\n",
    "\n",
    "# Add two array\n",
    "add = np.add(x, y)\n",
    "print(add)\n",
    "print(\"# \" + \"-\"*60 + \" #\")\n",
    "\n",
    "# Subtract two array\n",
    "sub = np.subtract(x, y)\n",
    "print(sub)\n",
    "print(\"# \" + \"-\"*60 + \" #\")\n",
    "\n",
    "# Multiply two array\n",
    "mul = np.multiply(x, y)\n",
    "print(mul)\n",
    "print(\"# \" + \"-\"*60 + \" #\")\n",
    "\n",
    "# Divide x, y\n",
    "div = np.divide(x,y)\n",
    "print(div)\n",
    "print(\"# \" + \"-\"*60 + \" #\")\n",
    "\n",
    "# Calculated the remainder of x and y\n",
    "rem = np.remainder(x, y)\n",
    "print(rem)"
   ]
  },
  {
   "cell_type": "markdown",
   "metadata": {},
   "source": [
    "# Slicing arrays in numpy"
   ]
  },
  {
   "cell_type": "code",
   "execution_count": 60,
   "metadata": {},
   "outputs": [
    {
     "name": "stdout",
     "output_type": "stream",
     "text": [
      "[10. 20. 30. 40. 50.]\n"
     ]
    }
   ],
   "source": [
    "x = np.linspace(10,50,5)\n",
    "print(x)"
   ]
  },
  {
   "cell_type": "code",
   "execution_count": 61,
   "metadata": {},
   "outputs": [
    {
     "name": "stdout",
     "output_type": "stream",
     "text": [
      "[10. 20.]\n"
     ]
    }
   ],
   "source": [
    "# Select items at index 0 and 1\n",
    "print(x[0:2])"
   ]
  },
  {
   "cell_type": "code",
   "execution_count": 62,
   "metadata": {},
   "outputs": [
    {
     "name": "stdout",
     "output_type": "stream",
     "text": [
      "[[ 10. 100.]\n",
      " [ 20. 200.]\n",
      " [ 30. 300.]\n",
      " [ 40. 400.]\n",
      " [ 50. 500.]]\n"
     ]
    }
   ],
   "source": [
    "y = np.linspace((10,100),(50,500),5)\n",
    "print(y)"
   ]
  },
  {
   "cell_type": "code",
   "execution_count": 63,
   "metadata": {},
   "outputs": [
    {
     "name": "stdout",
     "output_type": "stream",
     "text": [
      "[100. 200.]\n"
     ]
    }
   ],
   "source": [
    "# Select item at row 0 and 1 in column 1 in 2D array\n",
    "print(y[0:2,1])"
   ]
  },
  {
   "cell_type": "code",
   "execution_count": 68,
   "metadata": {},
   "outputs": [
    {
     "name": "stdout",
     "output_type": "stream",
     "text": [
      "[100. 200.  30. 300.  40. 400.  50. 500.]\n",
      "# ------------------------------------------------------------ #\n",
      "[100. 200.  30. 300.  40. 400.  50. 500.]\n"
     ]
    }
   ],
   "source": [
    "# Specifying conditions\n",
    "biggerThan25 = (y >= 25)\n",
    "print(y[biggerThan25])\n",
    "print(\"# \" + \"-\"*60 + \" #\")\n",
    "print(y[y>=25])"
   ]
  }
 ],
 "metadata": {
  "kernelspec": {
   "display_name": "Python 3",
   "language": "python",
   "name": "python3"
  },
  "language_info": {
   "codemirror_mode": {
    "name": "ipython",
    "version": 3
   },
   "file_extension": ".py",
   "mimetype": "text/x-python",
   "name": "python",
   "nbconvert_exporter": "python",
   "pygments_lexer": "ipython3",
   "version": "3.7.6"
  }
 },
 "nbformat": 4,
 "nbformat_minor": 4
}
